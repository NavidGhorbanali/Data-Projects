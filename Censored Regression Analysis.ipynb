{
 "cells": [
  {
   "cell_type": "markdown",
   "metadata": {},
   "source": [
    "Note: This was originally a take home project\n",
    "The goal was to build as accurate a regression model as possible on the censored, high dimensional model, as measured by Mean Squared Error (MSE)."
   ]
  },
  {
   "cell_type": "code",
   "execution_count": 27,
   "metadata": {},
   "outputs": [
    {
     "name": "stdout",
     "output_type": "stream",
     "text": [
      "Done\n"
     ]
    }
   ],
   "source": [
    "# Standard Libraries\n",
    "import pandas as pd\n",
    "import numpy as np\n",
    "import random\n",
    "import matplotlib.pyplot as plt\n",
    "import seaborn as sns\n",
    "\n",
    "from sklearn.linear_model import LinearRegression\n",
    "from sklearn.tree import DecisionTreeRegressor\n",
    "from sklearn.linear_model import Lasso, Ridge\n",
    "from sklearn.neighbors import KNeighborsRegressor\n",
    "from sklearn.svm import SVR\n",
    "from sklearn.preprocessing import StandardScaler\n",
    "from sklearn.model_selection import train_test_split\n",
    "from sklearn.preprocessing import LabelEncoder\n",
    "from sklearn.metrics import mean_squared_error\n",
    "from sklearn.preprocessing import StandardScaler\n",
    "from sklearn.model_selection import GridSearchCV\n",
    "\n",
    "print('Done')"
   ]
  },
  {
   "cell_type": "markdown",
   "metadata": {},
   "source": [
    "## Exploratory Analysis"
   ]
  },
  {
   "cell_type": "code",
   "execution_count": 3,
   "metadata": {},
   "outputs": [
    {
     "data": {
      "text/html": [
       "<div>\n",
       "<style scoped>\n",
       "    .dataframe tbody tr th:only-of-type {\n",
       "        vertical-align: middle;\n",
       "    }\n",
       "\n",
       "    .dataframe tbody tr th {\n",
       "        vertical-align: top;\n",
       "    }\n",
       "\n",
       "    .dataframe thead th {\n",
       "        text-align: right;\n",
       "    }\n",
       "</style>\n",
       "<table border=\"1\" class=\"dataframe\">\n",
       "  <thead>\n",
       "    <tr style=\"text-align: right;\">\n",
       "      <th></th>\n",
       "      <th>target</th>\n",
       "      <th>f_0</th>\n",
       "      <th>f_1</th>\n",
       "      <th>f_2</th>\n",
       "      <th>f_3</th>\n",
       "      <th>f_4</th>\n",
       "      <th>f_5</th>\n",
       "      <th>f_6</th>\n",
       "      <th>f_7</th>\n",
       "      <th>f_8</th>\n",
       "      <th>...</th>\n",
       "      <th>f_244</th>\n",
       "      <th>f_245</th>\n",
       "      <th>f_246</th>\n",
       "      <th>f_247</th>\n",
       "      <th>f_248</th>\n",
       "      <th>f_249</th>\n",
       "      <th>f_250</th>\n",
       "      <th>f_251</th>\n",
       "      <th>f_252</th>\n",
       "      <th>f_253</th>\n",
       "    </tr>\n",
       "  </thead>\n",
       "  <tbody>\n",
       "    <tr>\n",
       "      <th>0</th>\n",
       "      <td>3.066056</td>\n",
       "      <td>-0.653</td>\n",
       "      <td>0.255</td>\n",
       "      <td>-0.615</td>\n",
       "      <td>-1.833</td>\n",
       "      <td>-0.736</td>\n",
       "      <td>NaN</td>\n",
       "      <td>1.115</td>\n",
       "      <td>-0.171</td>\n",
       "      <td>-0.351</td>\n",
       "      <td>...</td>\n",
       "      <td>-1.607</td>\n",
       "      <td>-1.400</td>\n",
       "      <td>-0.920</td>\n",
       "      <td>-0.198</td>\n",
       "      <td>-0.945</td>\n",
       "      <td>-0.573</td>\n",
       "      <td>0.170</td>\n",
       "      <td>-0.418</td>\n",
       "      <td>-1.244</td>\n",
       "      <td>-0.503</td>\n",
       "    </tr>\n",
       "    <tr>\n",
       "      <th>1</th>\n",
       "      <td>-1.910473</td>\n",
       "      <td>1.179</td>\n",
       "      <td>-0.093</td>\n",
       "      <td>-0.556</td>\n",
       "      <td>0.811</td>\n",
       "      <td>-0.468</td>\n",
       "      <td>-0.005</td>\n",
       "      <td>-0.116</td>\n",
       "      <td>-1.243</td>\n",
       "      <td>1.985</td>\n",
       "      <td>...</td>\n",
       "      <td>1.282</td>\n",
       "      <td>0.032</td>\n",
       "      <td>-0.061</td>\n",
       "      <td>NaN</td>\n",
       "      <td>-0.061</td>\n",
       "      <td>-0.302</td>\n",
       "      <td>1.281</td>\n",
       "      <td>-0.850</td>\n",
       "      <td>0.821</td>\n",
       "      <td>-0.260</td>\n",
       "    </tr>\n",
       "    <tr>\n",
       "      <th>2</th>\n",
       "      <td>7.830711</td>\n",
       "      <td>0.181</td>\n",
       "      <td>-0.778</td>\n",
       "      <td>-0.919</td>\n",
       "      <td>0.113</td>\n",
       "      <td>0.887</td>\n",
       "      <td>-0.762</td>\n",
       "      <td>1.872</td>\n",
       "      <td>-1.709</td>\n",
       "      <td>0.135</td>\n",
       "      <td>...</td>\n",
       "      <td>-0.237</td>\n",
       "      <td>-0.660</td>\n",
       "      <td>1.073</td>\n",
       "      <td>-0.193</td>\n",
       "      <td>0.570</td>\n",
       "      <td>-0.267</td>\n",
       "      <td>1.435</td>\n",
       "      <td>1.332</td>\n",
       "      <td>-1.147</td>\n",
       "      <td>2.580</td>\n",
       "    </tr>\n",
       "    <tr>\n",
       "      <th>3</th>\n",
       "      <td>-2.180862</td>\n",
       "      <td>0.745</td>\n",
       "      <td>-0.245</td>\n",
       "      <td>-1.343</td>\n",
       "      <td>1.163</td>\n",
       "      <td>-0.169</td>\n",
       "      <td>-0.151</td>\n",
       "      <td>-1.100</td>\n",
       "      <td>0.225</td>\n",
       "      <td>1.223</td>\n",
       "      <td>...</td>\n",
       "      <td>0.709</td>\n",
       "      <td>-0.203</td>\n",
       "      <td>-0.136</td>\n",
       "      <td>-0.571</td>\n",
       "      <td>1.682</td>\n",
       "      <td>0.243</td>\n",
       "      <td>-0.381</td>\n",
       "      <td>0.613</td>\n",
       "      <td>1.033</td>\n",
       "      <td>0.400</td>\n",
       "    </tr>\n",
       "    <tr>\n",
       "      <th>4</th>\n",
       "      <td>5.462784</td>\n",
       "      <td>1.217</td>\n",
       "      <td>-1.324</td>\n",
       "      <td>-0.958</td>\n",
       "      <td>0.448</td>\n",
       "      <td>-2.873</td>\n",
       "      <td>-0.856</td>\n",
       "      <td>0.603</td>\n",
       "      <td>0.763</td>\n",
       "      <td>0.020</td>\n",
       "      <td>...</td>\n",
       "      <td>0.892</td>\n",
       "      <td>-0.433</td>\n",
       "      <td>-0.877</td>\n",
       "      <td>0.289</td>\n",
       "      <td>0.654</td>\n",
       "      <td>1.230</td>\n",
       "      <td>0.457</td>\n",
       "      <td>-0.754</td>\n",
       "      <td>-0.025</td>\n",
       "      <td>-0.931</td>\n",
       "    </tr>\n",
       "  </tbody>\n",
       "</table>\n",
       "<p>5 rows × 255 columns</p>\n",
       "</div>"
      ],
      "text/plain": [
       "     target    f_0    f_1    f_2    f_3    f_4    f_5    f_6    f_7    f_8  \\\n",
       "0  3.066056 -0.653  0.255 -0.615 -1.833 -0.736    NaN  1.115 -0.171 -0.351   \n",
       "1 -1.910473  1.179 -0.093 -0.556  0.811 -0.468 -0.005 -0.116 -1.243  1.985   \n",
       "2  7.830711  0.181 -0.778 -0.919  0.113  0.887 -0.762  1.872 -1.709  0.135   \n",
       "3 -2.180862  0.745 -0.245 -1.343  1.163 -0.169 -0.151 -1.100  0.225  1.223   \n",
       "4  5.462784  1.217 -1.324 -0.958  0.448 -2.873 -0.856  0.603  0.763  0.020   \n",
       "\n",
       "   ...  f_244  f_245  f_246  f_247  f_248  f_249  f_250  f_251  f_252  f_253  \n",
       "0  ... -1.607 -1.400 -0.920 -0.198 -0.945 -0.573  0.170 -0.418 -1.244 -0.503  \n",
       "1  ...  1.282  0.032 -0.061    NaN -0.061 -0.302  1.281 -0.850  0.821 -0.260  \n",
       "2  ... -0.237 -0.660  1.073 -0.193  0.570 -0.267  1.435  1.332 -1.147  2.580  \n",
       "3  ...  0.709 -0.203 -0.136 -0.571  1.682  0.243 -0.381  0.613  1.033  0.400  \n",
       "4  ...  0.892 -0.433 -0.877  0.289  0.654  1.230  0.457 -0.754 -0.025 -0.931  \n",
       "\n",
       "[5 rows x 255 columns]"
      ]
     },
     "execution_count": 3,
     "metadata": {},
     "output_type": "execute_result"
    }
   ],
   "source": [
    "train_data = pd.read_csv('testcode_train.txt', delimiter='\\t')\n",
    "test_data = pd.read_csv('testcode_test.txt', delimiter='\\t')\n",
    "\n",
    "# Display first few rows of training data\n",
    "train_data.head()"
   ]
  },
  {
   "cell_type": "code",
   "execution_count": 4,
   "metadata": {},
   "outputs": [
    {
     "data": {
      "text/html": [
       "<div>\n",
       "<style scoped>\n",
       "    .dataframe tbody tr th:only-of-type {\n",
       "        vertical-align: middle;\n",
       "    }\n",
       "\n",
       "    .dataframe tbody tr th {\n",
       "        vertical-align: top;\n",
       "    }\n",
       "\n",
       "    .dataframe thead th {\n",
       "        text-align: right;\n",
       "    }\n",
       "</style>\n",
       "<table border=\"1\" class=\"dataframe\">\n",
       "  <thead>\n",
       "    <tr style=\"text-align: right;\">\n",
       "      <th></th>\n",
       "      <th>target</th>\n",
       "      <th>f_0</th>\n",
       "      <th>f_1</th>\n",
       "      <th>f_2</th>\n",
       "      <th>f_3</th>\n",
       "      <th>f_4</th>\n",
       "      <th>f_5</th>\n",
       "      <th>f_6</th>\n",
       "      <th>f_7</th>\n",
       "      <th>f_8</th>\n",
       "      <th>...</th>\n",
       "      <th>f_244</th>\n",
       "      <th>f_245</th>\n",
       "      <th>f_246</th>\n",
       "      <th>f_247</th>\n",
       "      <th>f_248</th>\n",
       "      <th>f_249</th>\n",
       "      <th>f_250</th>\n",
       "      <th>f_251</th>\n",
       "      <th>f_252</th>\n",
       "      <th>f_253</th>\n",
       "    </tr>\n",
       "  </thead>\n",
       "  <tbody>\n",
       "    <tr>\n",
       "      <th>count</th>\n",
       "      <td>5000.000000</td>\n",
       "      <td>4903.000000</td>\n",
       "      <td>4928.000000</td>\n",
       "      <td>4908.000000</td>\n",
       "      <td>4910.000000</td>\n",
       "      <td>4907.000000</td>\n",
       "      <td>4912.000000</td>\n",
       "      <td>4897.000000</td>\n",
       "      <td>4904.000000</td>\n",
       "      <td>4893.000000</td>\n",
       "      <td>...</td>\n",
       "      <td>4910.000000</td>\n",
       "      <td>4883.000000</td>\n",
       "      <td>4914.000000</td>\n",
       "      <td>4894.000000</td>\n",
       "      <td>4902.000000</td>\n",
       "      <td>4886.000000</td>\n",
       "      <td>4900.000000</td>\n",
       "      <td>4921.000000</td>\n",
       "      <td>4904.000000</td>\n",
       "      <td>4904.000000</td>\n",
       "    </tr>\n",
       "    <tr>\n",
       "      <th>mean</th>\n",
       "      <td>1.143878</td>\n",
       "      <td>-0.000433</td>\n",
       "      <td>0.002564</td>\n",
       "      <td>0.028877</td>\n",
       "      <td>-0.005437</td>\n",
       "      <td>-0.006759</td>\n",
       "      <td>0.005569</td>\n",
       "      <td>0.001536</td>\n",
       "      <td>-0.001019</td>\n",
       "      <td>0.009744</td>\n",
       "      <td>...</td>\n",
       "      <td>0.013529</td>\n",
       "      <td>0.004941</td>\n",
       "      <td>0.023261</td>\n",
       "      <td>-0.018447</td>\n",
       "      <td>-0.009842</td>\n",
       "      <td>0.016958</td>\n",
       "      <td>-0.004947</td>\n",
       "      <td>0.016868</td>\n",
       "      <td>-0.001351</td>\n",
       "      <td>0.010334</td>\n",
       "    </tr>\n",
       "    <tr>\n",
       "      <th>std</th>\n",
       "      <td>5.259896</td>\n",
       "      <td>0.999739</td>\n",
       "      <td>0.997930</td>\n",
       "      <td>1.019337</td>\n",
       "      <td>0.990351</td>\n",
       "      <td>1.006293</td>\n",
       "      <td>0.995799</td>\n",
       "      <td>1.004624</td>\n",
       "      <td>0.997356</td>\n",
       "      <td>0.988310</td>\n",
       "      <td>...</td>\n",
       "      <td>1.001453</td>\n",
       "      <td>0.997330</td>\n",
       "      <td>0.996458</td>\n",
       "      <td>1.005000</td>\n",
       "      <td>0.989228</td>\n",
       "      <td>1.011331</td>\n",
       "      <td>0.991577</td>\n",
       "      <td>1.001358</td>\n",
       "      <td>1.003411</td>\n",
       "      <td>1.006896</td>\n",
       "    </tr>\n",
       "    <tr>\n",
       "      <th>min</th>\n",
       "      <td>-26.705570</td>\n",
       "      <td>-3.941000</td>\n",
       "      <td>-3.847000</td>\n",
       "      <td>-3.818000</td>\n",
       "      <td>-3.434000</td>\n",
       "      <td>-3.400000</td>\n",
       "      <td>-4.051000</td>\n",
       "      <td>-3.179000</td>\n",
       "      <td>-3.890000</td>\n",
       "      <td>-3.857000</td>\n",
       "      <td>...</td>\n",
       "      <td>-3.585000</td>\n",
       "      <td>-3.494000</td>\n",
       "      <td>-3.485000</td>\n",
       "      <td>-4.012000</td>\n",
       "      <td>-3.252000</td>\n",
       "      <td>-3.821000</td>\n",
       "      <td>-3.376000</td>\n",
       "      <td>-3.373000</td>\n",
       "      <td>-3.950000</td>\n",
       "      <td>-3.728000</td>\n",
       "    </tr>\n",
       "    <tr>\n",
       "      <th>25%</th>\n",
       "      <td>-2.034383</td>\n",
       "      <td>-0.673000</td>\n",
       "      <td>-0.685000</td>\n",
       "      <td>-0.651000</td>\n",
       "      <td>-0.655000</td>\n",
       "      <td>-0.685500</td>\n",
       "      <td>-0.660000</td>\n",
       "      <td>-0.672000</td>\n",
       "      <td>-0.679000</td>\n",
       "      <td>-0.662000</td>\n",
       "      <td>...</td>\n",
       "      <td>-0.665750</td>\n",
       "      <td>-0.676000</td>\n",
       "      <td>-0.661750</td>\n",
       "      <td>-0.692000</td>\n",
       "      <td>-0.663000</td>\n",
       "      <td>-0.647750</td>\n",
       "      <td>-0.679500</td>\n",
       "      <td>-0.647000</td>\n",
       "      <td>-0.695000</td>\n",
       "      <td>-0.677000</td>\n",
       "    </tr>\n",
       "    <tr>\n",
       "      <th>50%</th>\n",
       "      <td>1.166835</td>\n",
       "      <td>-0.011000</td>\n",
       "      <td>-0.003000</td>\n",
       "      <td>0.047500</td>\n",
       "      <td>0.003500</td>\n",
       "      <td>-0.007000</td>\n",
       "      <td>-0.008000</td>\n",
       "      <td>-0.003000</td>\n",
       "      <td>-0.021500</td>\n",
       "      <td>0.017000</td>\n",
       "      <td>...</td>\n",
       "      <td>0.026000</td>\n",
       "      <td>-0.028000</td>\n",
       "      <td>0.027000</td>\n",
       "      <td>-0.035000</td>\n",
       "      <td>-0.010500</td>\n",
       "      <td>0.002500</td>\n",
       "      <td>0.010000</td>\n",
       "      <td>0.020000</td>\n",
       "      <td>0.002500</td>\n",
       "      <td>0.015000</td>\n",
       "    </tr>\n",
       "    <tr>\n",
       "      <th>75%</th>\n",
       "      <td>4.439549</td>\n",
       "      <td>0.677000</td>\n",
       "      <td>0.674500</td>\n",
       "      <td>0.719000</td>\n",
       "      <td>0.668000</td>\n",
       "      <td>0.654000</td>\n",
       "      <td>0.649000</td>\n",
       "      <td>0.679000</td>\n",
       "      <td>0.670250</td>\n",
       "      <td>0.698000</td>\n",
       "      <td>...</td>\n",
       "      <td>0.671750</td>\n",
       "      <td>0.670000</td>\n",
       "      <td>0.702500</td>\n",
       "      <td>0.655000</td>\n",
       "      <td>0.651000</td>\n",
       "      <td>0.709750</td>\n",
       "      <td>0.660250</td>\n",
       "      <td>0.692000</td>\n",
       "      <td>0.672250</td>\n",
       "      <td>0.705250</td>\n",
       "    </tr>\n",
       "    <tr>\n",
       "      <th>max</th>\n",
       "      <td>26.347818</td>\n",
       "      <td>3.831000</td>\n",
       "      <td>3.996000</td>\n",
       "      <td>3.199000</td>\n",
       "      <td>4.962000</td>\n",
       "      <td>3.106000</td>\n",
       "      <td>4.296000</td>\n",
       "      <td>4.166000</td>\n",
       "      <td>3.798000</td>\n",
       "      <td>4.195000</td>\n",
       "      <td>...</td>\n",
       "      <td>3.365000</td>\n",
       "      <td>3.456000</td>\n",
       "      <td>3.881000</td>\n",
       "      <td>3.690000</td>\n",
       "      <td>3.629000</td>\n",
       "      <td>4.144000</td>\n",
       "      <td>3.873000</td>\n",
       "      <td>3.187000</td>\n",
       "      <td>3.724000</td>\n",
       "      <td>3.956000</td>\n",
       "    </tr>\n",
       "  </tbody>\n",
       "</table>\n",
       "<p>8 rows × 251 columns</p>\n",
       "</div>"
      ],
      "text/plain": [
       "            target          f_0          f_1          f_2          f_3  \\\n",
       "count  5000.000000  4903.000000  4928.000000  4908.000000  4910.000000   \n",
       "mean      1.143878    -0.000433     0.002564     0.028877    -0.005437   \n",
       "std       5.259896     0.999739     0.997930     1.019337     0.990351   \n",
       "min     -26.705570    -3.941000    -3.847000    -3.818000    -3.434000   \n",
       "25%      -2.034383    -0.673000    -0.685000    -0.651000    -0.655000   \n",
       "50%       1.166835    -0.011000    -0.003000     0.047500     0.003500   \n",
       "75%       4.439549     0.677000     0.674500     0.719000     0.668000   \n",
       "max      26.347818     3.831000     3.996000     3.199000     4.962000   \n",
       "\n",
       "               f_4          f_5          f_6          f_7          f_8  ...  \\\n",
       "count  4907.000000  4912.000000  4897.000000  4904.000000  4893.000000  ...   \n",
       "mean     -0.006759     0.005569     0.001536    -0.001019     0.009744  ...   \n",
       "std       1.006293     0.995799     1.004624     0.997356     0.988310  ...   \n",
       "min      -3.400000    -4.051000    -3.179000    -3.890000    -3.857000  ...   \n",
       "25%      -0.685500    -0.660000    -0.672000    -0.679000    -0.662000  ...   \n",
       "50%      -0.007000    -0.008000    -0.003000    -0.021500     0.017000  ...   \n",
       "75%       0.654000     0.649000     0.679000     0.670250     0.698000  ...   \n",
       "max       3.106000     4.296000     4.166000     3.798000     4.195000  ...   \n",
       "\n",
       "             f_244        f_245        f_246        f_247        f_248  \\\n",
       "count  4910.000000  4883.000000  4914.000000  4894.000000  4902.000000   \n",
       "mean      0.013529     0.004941     0.023261    -0.018447    -0.009842   \n",
       "std       1.001453     0.997330     0.996458     1.005000     0.989228   \n",
       "min      -3.585000    -3.494000    -3.485000    -4.012000    -3.252000   \n",
       "25%      -0.665750    -0.676000    -0.661750    -0.692000    -0.663000   \n",
       "50%       0.026000    -0.028000     0.027000    -0.035000    -0.010500   \n",
       "75%       0.671750     0.670000     0.702500     0.655000     0.651000   \n",
       "max       3.365000     3.456000     3.881000     3.690000     3.629000   \n",
       "\n",
       "             f_249        f_250        f_251        f_252        f_253  \n",
       "count  4886.000000  4900.000000  4921.000000  4904.000000  4904.000000  \n",
       "mean      0.016958    -0.004947     0.016868    -0.001351     0.010334  \n",
       "std       1.011331     0.991577     1.001358     1.003411     1.006896  \n",
       "min      -3.821000    -3.376000    -3.373000    -3.950000    -3.728000  \n",
       "25%      -0.647750    -0.679500    -0.647000    -0.695000    -0.677000  \n",
       "50%       0.002500     0.010000     0.020000     0.002500     0.015000  \n",
       "75%       0.709750     0.660250     0.692000     0.672250     0.705250  \n",
       "max       4.144000     3.873000     3.187000     3.724000     3.956000  \n",
       "\n",
       "[8 rows x 251 columns]"
      ]
     },
     "execution_count": 4,
     "metadata": {},
     "output_type": "execute_result"
    }
   ],
   "source": [
    "# Summary statistics of the training data\n",
    "train_data.describe()"
   ]
  },
  {
   "cell_type": "code",
   "execution_count": 5,
   "metadata": {},
   "outputs": [
    {
     "data": {
      "image/png": "[encoded data removed]",
      "text/plain": [
       "<Figure size 1000x600 with 1 Axes>"
      ]
     },
     "metadata": {},
     "output_type": "display_data"
    }
   ],
   "source": [
    "# Visualizing the distribution of the target variable\n",
    "plt.figure(figsize=(10, 6))\n",
    "sns.histplot(train_data['target'], bins=50, kde=True)\n",
    "plt.title('Distribution of Target Variable')\n",
    "plt.xlabel('Target')\n",
    "plt.ylabel('Frequency')\n",
    "plt.show()"
   ]
  },
  {
   "cell_type": "markdown",
   "metadata": {},
   "source": [
    "## Feature Engineering"
   ]
  },
  {
   "cell_type": "code",
   "execution_count": 6,
   "metadata": {},
   "outputs": [
    {
     "name": "stdout",
     "output_type": "stream",
     "text": [
      "Columns with non-numeric data types: ['f_61', 'f_121', 'f_215', 'f_237']\n"
     ]
    }
   ],
   "source": [
    "non_numeric_cols = [col for col, dtype in train_data.dtypes.items() if dtype not in ['float64', 'int64']]\n",
    "\n",
    "if non_numeric_cols:\n",
    "    print(f\"Columns with non-numeric data types: {non_numeric_cols}\")\n",
    "else:\n",
    "    print(\"All columns have float or integer data types.\")"
   ]
  },
  {
   "cell_type": "code",
   "execution_count": 7,
   "metadata": {},
   "outputs": [
    {
     "data": {
      "text/plain": [
       "(0    b\n",
       " 1    a\n",
       " 2    b\n",
       " 3    a\n",
       " 4    b\n",
       " Name: f_61, dtype: object,\n",
       " 0    D\n",
       " 1    A\n",
       " 2    B\n",
       " 3    C\n",
       " 4    E\n",
       " Name: f_121, dtype: object,\n",
       " 0       red\n",
       " 1      blue\n",
       " 2    orange\n",
       " 3      blue\n",
       " 4    orange\n",
       " Name: f_215, dtype: object,\n",
       " 0    Canada\n",
       " 1    Canada\n",
       " 2    Canada\n",
       " 3       USA\n",
       " 4    Canada\n",
       " Name: f_237, dtype: object)"
      ]
     },
     "execution_count": 7,
     "metadata": {},
     "output_type": "execute_result"
    }
   ],
   "source": [
    "train_data['f_61'].head(), train_data['f_121'].head(), train_data['f_215'].head(), train_data['f_237'].head(), "
   ]
  },
  {
   "cell_type": "code",
   "execution_count": 8,
   "metadata": {},
   "outputs": [
    {
     "data": {
      "text/plain": [
       "f_61     int32\n",
       "f_121    int32\n",
       "f_215    int32\n",
       "f_237    int32\n",
       "dtype: object"
      ]
     },
     "execution_count": 8,
     "metadata": {},
     "output_type": "execute_result"
    }
   ],
   "source": [
    "non_numeric_features = train_data.dtypes[train_data.dtypes == 'object'].index\n",
    "\n",
    "# Encoding the non-numeric features\n",
    "encoder = LabelEncoder()\n",
    "for feature in non_numeric_features:\n",
    "    train_data[feature] = encoder.fit_transform(train_data[feature].astype(str))\n",
    "\n",
    "# Confirming that all features are now numeric\n",
    "train_data.dtypes[train_data.dtypes != 'float64']"
   ]
  },
  {
   "cell_type": "code",
   "execution_count": 9,
   "metadata": {},
   "outputs": [
    {
     "data": {
      "text/plain": [
       "(0    1\n",
       " 1    0\n",
       " 2    1\n",
       " 3    0\n",
       " 4    1\n",
       " Name: f_61, dtype: int32,\n",
       " 0    3\n",
       " 1    0\n",
       " 2    1\n",
       " 3    2\n",
       " 4    4\n",
       " Name: f_121, dtype: int32,\n",
       " 0    3\n",
       " 1    0\n",
       " 2    2\n",
       " 3    0\n",
       " 4    2\n",
       " Name: f_215, dtype: int32,\n",
       " 0    0\n",
       " 1    0\n",
       " 2    0\n",
       " 3    2\n",
       " 4    0\n",
       " Name: f_237, dtype: int32)"
      ]
     },
     "execution_count": 9,
     "metadata": {},
     "output_type": "execute_result"
    }
   ],
   "source": [
    "train_data['f_61'].head(), train_data['f_121'].head(), train_data['f_215'].head(), train_data['f_237'].head(), "
   ]
  },
  {
   "cell_type": "code",
   "execution_count": 10,
   "metadata": {},
   "outputs": [
    {
     "name": "stdout",
     "output_type": "stream",
     "text": [
      "Columns with non-numeric data types: ['f_61', 'f_121', 'f_215', 'f_237']\n"
     ]
    }
   ],
   "source": [
    "non_numeric_cols = [col for col, dtype in test_data.dtypes.items() if dtype not in ['float64', 'int64']]\n",
    "\n",
    "if non_numeric_cols:\n",
    "    print(f\"Columns with non-numeric data types: {non_numeric_cols}\")\n",
    "else:\n",
    "    print(\"All columns have float or integer data types.\")"
   ]
  },
  {
   "cell_type": "code",
   "execution_count": 11,
   "metadata": {},
   "outputs": [],
   "source": [
    "non_numeric_features_test = test_data.dtypes[test_data.dtypes == 'object'].index"
   ]
  },
  {
   "cell_type": "code",
   "execution_count": 12,
   "metadata": {},
   "outputs": [
    {
     "data": {
      "text/plain": [
       "f_61     int32\n",
       "f_121    int32\n",
       "f_215    int32\n",
       "f_237    int32\n",
       "dtype: object"
      ]
     },
     "execution_count": 12,
     "metadata": {},
     "output_type": "execute_result"
    }
   ],
   "source": [
    "from sklearn.preprocessing import LabelEncoder\n",
    "\n",
    "# Encoding the non-numeric features\n",
    "encoder = LabelEncoder()\n",
    "for feature in non_numeric_features_test:\n",
    "    test_data[feature] = encoder.fit_transform(test_data[feature].astype(str))\n",
    "\n",
    "# Confirming that all features are now numeric\n",
    "test_data.dtypes[test_data.dtypes != 'float64']"
   ]
  },
  {
   "cell_type": "code",
   "execution_count": 13,
   "metadata": {},
   "outputs": [
    {
     "name": "stdout",
     "output_type": "stream",
     "text": [
      "Missing values in train_data:\n",
      "f_0       97\n",
      "f_1       72\n",
      "f_2       92\n",
      "f_3       90\n",
      "f_4       93\n",
      "        ... \n",
      "f_249    114\n",
      "f_250    100\n",
      "f_251     79\n",
      "f_252     96\n",
      "f_253     96\n",
      "Length: 250, dtype: int64\n",
      "\n",
      "Missing values in test_data:\n",
      "f_0      28\n",
      "f_1      17\n",
      "f_2      17\n",
      "f_3      18\n",
      "f_4      22\n",
      "         ..\n",
      "f_249    20\n",
      "f_250    19\n",
      "f_251    22\n",
      "f_252    21\n",
      "f_253    15\n",
      "Length: 250, dtype: int64\n"
     ]
    }
   ],
   "source": [
    "# Check missing values in train_data\n",
    "missing_train = train_data.isna().sum()\n",
    "print(\"Missing values in train_data:\")\n",
    "print(missing_train[missing_train > 0])\n",
    "\n",
    "# Check missing values in test_data\n",
    "missing_test = test_data.isna().sum()\n",
    "print(\"\\nMissing values in test_data:\")\n",
    "print(missing_test[missing_test > 0])"
   ]
  },
  {
   "cell_type": "code",
   "execution_count": 14,
   "metadata": {},
   "outputs": [],
   "source": [
    "# Filling missing values in train_data with median\n",
    "for column in train_data.columns:\n",
    "    median_value = train_data[column].median()\n",
    "    train_data[column].fillna(median_value, inplace=True)\n",
    "\n",
    "# Filling missing values in test_data with median\n",
    "for column in test_data.columns:\n",
    "    median_value = test_data[column].median()\n",
    "    test_data[column].fillna(median_value, inplace=True)"
   ]
  },
  {
   "cell_type": "code",
   "execution_count": 15,
   "metadata": {},
   "outputs": [
    {
     "name": "stdout",
     "output_type": "stream",
     "text": [
      "Missing values in train_data:\n",
      "Series([], dtype: int64)\n",
      "\n",
      "Missing values in test_data:\n",
      "Series([], dtype: int64)\n"
     ]
    }
   ],
   "source": [
    "# Check missing values in train_data\n",
    "missing_train = train_data.isna().sum()\n",
    "print(\"Missing values in train_data:\")\n",
    "print(missing_train[missing_train > 0])\n",
    "\n",
    "# Check missing values in test_data\n",
    "missing_test = test_data.isna().sum()\n",
    "print(\"\\nMissing values in test_data:\")\n",
    "print(missing_test[missing_test > 0])\n"
   ]
  },
  {
   "cell_type": "markdown",
   "metadata": {},
   "source": [
    "## Modeling Phase"
   ]
  },
  {
   "cell_type": "code",
   "execution_count": 16,
   "metadata": {},
   "outputs": [
    {
     "data": {
      "text/plain": [
       "14.010723344651986"
      ]
     },
     "execution_count": 16,
     "metadata": {},
     "output_type": "execute_result"
    }
   ],
   "source": [
    "# Separating features and target variable from training data\n",
    "X = train_data.drop('target', axis=1)\n",
    "y = train_data['target']\n",
    "\n",
    "# Splitting the data into training and validation sets\n",
    "X_train, X_val, y_train, y_val = train_test_split(X, y, test_size=0.2, random_state=42)\n",
    "\n",
    "# Normalizing the features\n",
    "scaler = StandardScaler()\n",
    "X_train_scaled = scaler.fit_transform(X_train)\n",
    "X_val_scaled = scaler.transform(X_val)\n",
    "X_test_scaled = scaler.transform(test_data)\n",
    "\n",
    "# Initializing the model\n",
    "lr_model = LinearRegression()\n",
    "\n",
    "# Fitting the model to the training data\n",
    "lr_model.fit(X_train_scaled, y_train)\n",
    "\n",
    "# Making predictions on the validation set\n",
    "y_val_pred = lr_model.predict(X_val_scaled)\n",
    "\n",
    "# Calculating the mean squared error\n",
    "mse = mean_squared_error(y_val, y_val_pred)\n",
    "mse"
   ]
  },
  {
   "cell_type": "code",
   "execution_count": 17,
   "metadata": {},
   "outputs": [
    {
     "data": {
      "text/plain": [
       "14.009024333650855"
      ]
     },
     "execution_count": 17,
     "metadata": {},
     "output_type": "execute_result"
    }
   ],
   "source": [
    "Cs = 10. ** np.arange(-3, 4)\n",
    "Ridge_params = {'alpha': Cs.tolist()}\n",
    "\n",
    "Ridge_Model = GridSearchCV(Ridge(), param_grid= Ridge_params)\n",
    "\n",
    "Ridge_Model.fit(X_train_scaled, y_train)\n",
    "y_val_pred = Ridge_Model.predict(X_val_scaled)\n",
    "\n",
    "mse = mean_squared_error(y_val, y_val_pred)\n",
    "mse\n"
   ]
  },
  {
   "cell_type": "code",
   "execution_count": 18,
   "metadata": {},
   "outputs": [
    {
     "data": {
      "text/plain": [
       "13.624373730071802"
      ]
     },
     "execution_count": 18,
     "metadata": {},
     "output_type": "execute_result"
    }
   ],
   "source": [
    "Lasso_Model = GridSearchCV(Lasso(), param_grid= Ridge_params)\n",
    "\n",
    "Lasso_Model.fit(X_train_scaled, y_train)\n",
    "y_val_pred = Lasso_Model.predict(X_val_scaled)\n",
    "\n",
    "mse = mean_squared_error(y_val, y_val_pred)\n",
    "mse\n"
   ]
  },
  {
   "cell_type": "code",
   "execution_count": 19,
   "metadata": {},
   "outputs": [
    {
     "data": {
      "text/plain": [
       "16.6645766375586"
      ]
     },
     "execution_count": 19,
     "metadata": {},
     "output_type": "execute_result"
    }
   ],
   "source": [
    "Dtree_params = {'random_state': [22], 'ccp_alpha' : Cs.tolist()}\n",
    "\n",
    "Dtree_Model = GridSearchCV(DecisionTreeRegressor(), param_grid= Dtree_params)\n",
    "\n",
    "Dtree_Model.fit(X_train_scaled, y_train)\n",
    "y_val_pred = Dtree_Model.predict(X_val_scaled)\n",
    "\n",
    "mse = mean_squared_error(y_val, y_val_pred)\n",
    "mse\n"
   ]
  },
  {
   "cell_type": "code",
   "execution_count": 25,
   "metadata": {},
   "outputs": [
    {
     "data": {
      "text/plain": [
       "23.105307183881653"
      ]
     },
     "execution_count": 25,
     "metadata": {},
     "output_type": "execute_result"
    }
   ],
   "source": [
    "NN_param_grid = {\"n_neighbors\": [1,2,3,5,10,20,50,75,100]}\n",
    "\n",
    "NN_Model = GridSearchCV(KNeighborsRegressor(), param_grid= NN_param_grid)\n",
    "\n",
    "NN_Model.fit(X_train_scaled, y_train)\n",
    "y_val_pred =NN_Model.predict(X_val_scaled)\n",
    "\n",
    "mse = mean_squared_error(y_val, y_val_pred)\n",
    "mse"
   ]
  },
  {
   "cell_type": "code",
   "execution_count": 28,
   "metadata": {},
   "outputs": [
    {
     "data": {
      "text/plain": [
       "11.564998423970101"
      ]
     },
     "execution_count": 28,
     "metadata": {},
     "output_type": "execute_result"
    }
   ],
   "source": [
    "gammas = 10. ** np.arange(-3, 3)\n",
    "\n",
    "\n",
    "rbf_grid = {'C':Cs, 'gamma':gammas, 'kernel':['rbf']}\n",
    "\n",
    "\n",
    "SVMachine = GridSearchCV(SVR(),param_grid= rbf_grid)\n",
    "\n",
    "SVMachine.fit(X_train_scaled, y_train)\n",
    "y_val_pred =SVMachine.predict(X_val_scaled)\n",
    "\n",
    "mse = mean_squared_error(y_val, y_val_pred)\n",
    "mse"
   ]
  },
  {
   "cell_type": "markdown",
   "metadata": {},
   "source": [
    "We select the Support Vector Machine as our final model."
   ]
  }
 ],
 "metadata": {
  "kernelspec": {
   "display_name": "Python 3",
   "language": "python",
   "name": "python3"
  },
  "language_info": {
   "codemirror_mode": {
    "name": "ipython",
    "version": 3
   },
   "file_extension": ".py",
   "mimetype": "text/x-python",
   "name": "python",
   "nbconvert_exporter": "python",
   "pygments_lexer": "ipython3",
   "version": "3.10.9"
  }
 },
 "nbformat": 4,
 "nbformat_minor": 2
}
