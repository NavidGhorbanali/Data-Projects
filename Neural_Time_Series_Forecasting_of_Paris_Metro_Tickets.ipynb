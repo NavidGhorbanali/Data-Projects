{
  "cells": [
    {
      "cell_type": "markdown",
      "metadata": {
        "id": "8jrGyA2KEnm4"
      },
      "source": [
        "In a previous notebook, I explored the various classical statistical techniques for forecasting the total sales of Paris Metro tickets. That notebook can be found in this same repository. In this notebook we will tackle the same problem, but with neural network based techniques. As a brief history, the M- Series forecasting challenges showed that many deep learning techniques, while theoretically superior, were outperformed by the classical statistical techniques. Today we will see if this still holds true, or if neural networks can beat our previously best performing model - exponential smoothing. We quickly reproduce those results below."
      ]
    },
    {
      "cell_type": "code",
      "execution_count": 59,
      "metadata": {
        "colab": {
          "base_uri": "https://localhost:8080/"
        },
        "id": "JGqLIUWFHM6x",
        "outputId": "dd35198b-93f1-4f34-b52a-1130880b2043"
      },
      "outputs": [
        {
          "name": "stdout",
          "output_type": "stream",
          "text": [
            "Done\n"
          ]
        }
      ],
      "source": [
        "# General Imports\n",
        "import pandas as pd\n",
        "import numpy as np\n",
        "\n",
        "\n",
        "# Specific Imports\n",
        "\n",
        "from statsforecast import StatsForecast\n",
        "from statsforecast.models import AutoETS\n",
        "from sklearn.metrics import mean_squared_error\n",
        "from neuralforecast import NeuralForecast\n",
        "from neuralforecast.models import LSTM, NHITS, Informer, TimesNet\n",
        "\n",
        "print(\"Done\")"
      ]
    },
    {
      "cell_type": "code",
      "execution_count": 6,
      "metadata": {
        "colab": {
          "base_uri": "https://localhost:8080/",
          "height": 424
        },
        "id": "JDiZsDVGIQSq",
        "outputId": "8cc98a18-425d-4367-a19d-84a716610908"
      },
      "outputs": [
        {
          "data": {
            "text/html": [
              "\n",
              "  <div id=\"df-d61b7d45-c9a3-4bae-9d10-fd931e9cc2bb\" class=\"colab-df-container\">\n",
              "    <div>\n",
              "<style scoped>\n",
              "    .dataframe tbody tr th:only-of-type {\n",
              "        vertical-align: middle;\n",
              "    }\n",
              "\n",
              "    .dataframe tbody tr th {\n",
              "        vertical-align: top;\n",
              "    }\n",
              "\n",
              "    .dataframe thead th {\n",
              "        text-align: right;\n",
              "    }\n",
              "</style>\n",
              "<table border=\"1\" class=\"dataframe\">\n",
              "  <thead>\n",
              "    <tr style=\"text-align: right;\">\n",
              "      <th></th>\n",
              "      <th>DATE</th>\n",
              "      <th>M032ECFRM452NNBR</th>\n",
              "    </tr>\n",
              "  </thead>\n",
              "  <tbody>\n",
              "    <tr>\n",
              "      <th>0</th>\n",
              "      <td>1930-03-01</td>\n",
              "      <td>62.82</td>\n",
              "    </tr>\n",
              "    <tr>\n",
              "      <th>1</th>\n",
              "      <td>1930-04-01</td>\n",
              "      <td>58.44</td>\n",
              "    </tr>\n",
              "    <tr>\n",
              "      <th>2</th>\n",
              "      <td>1930-05-01</td>\n",
              "      <td>60.32</td>\n",
              "    </tr>\n",
              "    <tr>\n",
              "      <th>3</th>\n",
              "      <td>1930-06-01</td>\n",
              "      <td>53.36</td>\n",
              "    </tr>\n",
              "    <tr>\n",
              "      <th>4</th>\n",
              "      <td>1930-07-01</td>\n",
              "      <td>50.12</td>\n",
              "    </tr>\n",
              "    <tr>\n",
              "      <th>...</th>\n",
              "      <td>...</td>\n",
              "      <td>...</td>\n",
              "    </tr>\n",
              "    <tr>\n",
              "      <th>89</th>\n",
              "      <td>1937-08-01</td>\n",
              "      <td>44.57</td>\n",
              "    </tr>\n",
              "    <tr>\n",
              "      <th>90</th>\n",
              "      <td>1937-09-01</td>\n",
              "      <td>55.19</td>\n",
              "    </tr>\n",
              "    <tr>\n",
              "      <th>91</th>\n",
              "      <td>1937-10-01</td>\n",
              "      <td>62.21</td>\n",
              "    </tr>\n",
              "    <tr>\n",
              "      <th>92</th>\n",
              "      <td>1937-11-01</td>\n",
              "      <td>56.98</td>\n",
              "    </tr>\n",
              "    <tr>\n",
              "      <th>93</th>\n",
              "      <td>1937-12-01</td>\n",
              "      <td>56.25</td>\n",
              "    </tr>\n",
              "  </tbody>\n",
              "</table>\n",
              "<p>94 rows × 2 columns</p>\n",
              "</div>\n",
              "    <div class=\"colab-df-buttons\">\n",
              "\n",
              "  <div class=\"colab-df-container\">\n",
              "    <button class=\"colab-df-convert\" onclick=\"convertToInteractive('df-d61b7d45-c9a3-4bae-9d10-fd931e9cc2bb')\"\n",
              "            title=\"Convert this dataframe to an interactive table.\"\n",
              "            style=\"display:none;\">\n",
              "\n",
              "  <svg xmlns=\"http://www.w3.org/2000/svg\" height=\"24px\" viewBox=\"0 -960 960 960\">\n",
              "    <path d=\"M120-120v-720h720v720H120Zm60-500h600v-160H180v160Zm220 220h160v-160H400v160Zm0 220h160v-160H400v160ZM180-400h160v-160H180v160Zm440 0h160v-160H620v160ZM180-180h160v-160H180v160Zm440 0h160v-160H620v160Z\"/>\n",
              "  </svg>\n",
              "    </button>\n",
              "\n",
              "  <style>\n",
              "    .colab-df-container {\n",
              "      display:flex;\n",
              "      gap: 12px;\n",
              "    }\n",
              "\n",
              "    .colab-df-convert {\n",
              "      background-color: #E8F0FE;\n",
              "      border: none;\n",
              "      border-radius: 50%;\n",
              "      cursor: pointer;\n",
              "      display: none;\n",
              "      fill: #1967D2;\n",
              "      height: 32px;\n",
              "      padding: 0 0 0 0;\n",
              "      width: 32px;\n",
              "    }\n",
              "\n",
              "    .colab-df-convert:hover {\n",
              "      background-color: #E2EBFA;\n",
              "      box-shadow: 0px 1px 2px rgba(60, 64, 67, 0.3), 0px 1px 3px 1px rgba(60, 64, 67, 0.15);\n",
              "      fill: #174EA6;\n",
              "    }\n",
              "\n",
              "    .colab-df-buttons div {\n",
              "      margin-bottom: 4px;\n",
              "    }\n",
              "\n",
              "    [theme=dark] .colab-df-convert {\n",
              "      background-color: #3B4455;\n",
              "      fill: #D2E3FC;\n",
              "    }\n",
              "\n",
              "    [theme=dark] .colab-df-convert:hover {\n",
              "      background-color: #434B5C;\n",
              "      box-shadow: 0px 1px 3px 1px rgba(0, 0, 0, 0.15);\n",
              "      filter: drop-shadow(0px 1px 2px rgba(0, 0, 0, 0.3));\n",
              "      fill: #FFFFFF;\n",
              "    }\n",
              "  </style>\n",
              "\n",
              "    <script>\n",
              "      const buttonEl =\n",
              "        document.querySelector('#df-d61b7d45-c9a3-4bae-9d10-fd931e9cc2bb button.colab-df-convert');\n",
              "      buttonEl.style.display =\n",
              "        google.colab.kernel.accessAllowed ? 'block' : 'none';\n",
              "\n",
              "      async function convertToInteractive(key) {\n",
              "        const element = document.querySelector('#df-d61b7d45-c9a3-4bae-9d10-fd931e9cc2bb');\n",
              "        const dataTable =\n",
              "          await google.colab.kernel.invokeFunction('convertToInteractive',\n",
              "                                                    [key], {});\n",
              "        if (!dataTable) return;\n",
              "\n",
              "        const docLinkHtml = 'Like what you see? Visit the ' +\n",
              "          '<a target=\"_blank\" href=https://colab.research.google.com/notebooks/data_table.ipynb>data table notebook</a>'\n",
              "          + ' to learn more about interactive tables.';\n",
              "        element.innerHTML = '';\n",
              "        dataTable['output_type'] = 'display_data';\n",
              "        await google.colab.output.renderOutput(dataTable, element);\n",
              "        const docLink = document.createElement('div');\n",
              "        docLink.innerHTML = docLinkHtml;\n",
              "        element.appendChild(docLink);\n",
              "      }\n",
              "    </script>\n",
              "  </div>\n",
              "\n",
              "\n",
              "<div id=\"df-4174eb5a-3d5d-4915-aeee-cfc8d1f3f0d6\">\n",
              "  <button class=\"colab-df-quickchart\" onclick=\"quickchart('df-4174eb5a-3d5d-4915-aeee-cfc8d1f3f0d6')\"\n",
              "            title=\"Suggest charts.\"\n",
              "            style=\"display:none;\">\n",
              "\n",
              "<svg xmlns=\"http://www.w3.org/2000/svg\" height=\"24px\"viewBox=\"0 0 24 24\"\n",
              "     width=\"24px\">\n",
              "    <g>\n",
              "        <path d=\"M19 3H5c-1.1 0-2 .9-2 2v14c0 1.1.9 2 2 2h14c1.1 0 2-.9 2-2V5c0-1.1-.9-2-2-2zM9 17H7v-7h2v7zm4 0h-2V7h2v10zm4 0h-2v-4h2v4z\"/>\n",
              "    </g>\n",
              "</svg>\n",
              "  </button>\n",
              "\n",
              "<style>\n",
              "  .colab-df-quickchart {\n",
              "      --bg-color: #E8F0FE;\n",
              "      --fill-color: #1967D2;\n",
              "      --hover-bg-color: #E2EBFA;\n",
              "      --hover-fill-color: #174EA6;\n",
              "      --disabled-fill-color: #AAA;\n",
              "      --disabled-bg-color: #DDD;\n",
              "  }\n",
              "\n",
              "  [theme=dark] .colab-df-quickchart {\n",
              "      --bg-color: #3B4455;\n",
              "      --fill-color: #D2E3FC;\n",
              "      --hover-bg-color: #434B5C;\n",
              "      --hover-fill-color: #FFFFFF;\n",
              "      --disabled-bg-color: #3B4455;\n",
              "      --disabled-fill-color: #666;\n",
              "  }\n",
              "\n",
              "  .colab-df-quickchart {\n",
              "    background-color: var(--bg-color);\n",
              "    border: none;\n",
              "    border-radius: 50%;\n",
              "    cursor: pointer;\n",
              "    display: none;\n",
              "    fill: var(--fill-color);\n",
              "    height: 32px;\n",
              "    padding: 0;\n",
              "    width: 32px;\n",
              "  }\n",
              "\n",
              "  .colab-df-quickchart:hover {\n",
              "    background-color: var(--hover-bg-color);\n",
              "    box-shadow: 0 1px 2px rgba(60, 64, 67, 0.3), 0 1px 3px 1px rgba(60, 64, 67, 0.15);\n",
              "    fill: var(--button-hover-fill-color);\n",
              "  }\n",
              "\n",
              "  .colab-df-quickchart-complete:disabled,\n",
              "  .colab-df-quickchart-complete:disabled:hover {\n",
              "    background-color: var(--disabled-bg-color);\n",
              "    fill: var(--disabled-fill-color);\n",
              "    box-shadow: none;\n",
              "  }\n",
              "\n",
              "  .colab-df-spinner {\n",
              "    border: 2px solid var(--fill-color);\n",
              "    border-color: transparent;\n",
              "    border-bottom-color: var(--fill-color);\n",
              "    animation:\n",
              "      spin 1s steps(1) infinite;\n",
              "  }\n",
              "\n",
              "  @keyframes spin {\n",
              "    0% {\n",
              "      border-color: transparent;\n",
              "      border-bottom-color: var(--fill-color);\n",
              "      border-left-color: var(--fill-color);\n",
              "    }\n",
              "    20% {\n",
              "      border-color: transparent;\n",
              "      border-left-color: var(--fill-color);\n",
              "      border-top-color: var(--fill-color);\n",
              "    }\n",
              "    30% {\n",
              "      border-color: transparent;\n",
              "      border-left-color: var(--fill-color);\n",
              "      border-top-color: var(--fill-color);\n",
              "      border-right-color: var(--fill-color);\n",
              "    }\n",
              "    40% {\n",
              "      border-color: transparent;\n",
              "      border-right-color: var(--fill-color);\n",
              "      border-top-color: var(--fill-color);\n",
              "    }\n",
              "    60% {\n",
              "      border-color: transparent;\n",
              "      border-right-color: var(--fill-color);\n",
              "    }\n",
              "    80% {\n",
              "      border-color: transparent;\n",
              "      border-right-color: var(--fill-color);\n",
              "      border-bottom-color: var(--fill-color);\n",
              "    }\n",
              "    90% {\n",
              "      border-color: transparent;\n",
              "      border-bottom-color: var(--fill-color);\n",
              "    }\n",
              "  }\n",
              "</style>\n",
              "\n",
              "  <script>\n",
              "    async function quickchart(key) {\n",
              "      const quickchartButtonEl =\n",
              "        document.querySelector('#' + key + ' button');\n",
              "      quickchartButtonEl.disabled = true;  // To prevent multiple clicks.\n",
              "      quickchartButtonEl.classList.add('colab-df-spinner');\n",
              "      try {\n",
              "        const charts = await google.colab.kernel.invokeFunction(\n",
              "            'suggestCharts', [key], {});\n",
              "      } catch (error) {\n",
              "        console.error('Error during call to suggestCharts:', error);\n",
              "      }\n",
              "      quickchartButtonEl.classList.remove('colab-df-spinner');\n",
              "      quickchartButtonEl.classList.add('colab-df-quickchart-complete');\n",
              "    }\n",
              "    (() => {\n",
              "      let quickchartButtonEl =\n",
              "        document.querySelector('#df-4174eb5a-3d5d-4915-aeee-cfc8d1f3f0d6 button');\n",
              "      quickchartButtonEl.style.display =\n",
              "        google.colab.kernel.accessAllowed ? 'block' : 'none';\n",
              "    })();\n",
              "  </script>\n",
              "</div>\n",
              "    </div>\n",
              "  </div>\n"
            ],
            "text/plain": [
              "          DATE  M032ECFRM452NNBR\n",
              "0   1930-03-01             62.82\n",
              "1   1930-04-01             58.44\n",
              "2   1930-05-01             60.32\n",
              "3   1930-06-01             53.36\n",
              "4   1930-07-01             50.12\n",
              "..         ...               ...\n",
              "89  1937-08-01             44.57\n",
              "90  1937-09-01             55.19\n",
              "91  1937-10-01             62.21\n",
              "92  1937-11-01             56.98\n",
              "93  1937-12-01             56.25\n",
              "\n",
              "[94 rows x 2 columns]"
            ]
          },
          "execution_count": 6,
          "metadata": {},
          "output_type": "execute_result"
        }
      ],
      "source": [
        "df = pd.read_csv('Paris_Metro_Traffic_Tickets.csv')\n",
        "df"
      ]
    },
    {
      "cell_type": "code",
      "execution_count": 7,
      "metadata": {
        "id": "TaFPmKBTI1pM"
      },
      "outputs": [],
      "source": [
        "# Same procedure as previous notebook\n",
        "\n",
        "df.rename(columns={\"M032ECFRM452NNBR\":'y', 'DATE':'ds'}, inplace= True)\n",
        "df.insert(loc= 0, column='unique_id',value='Tickets')\n",
        "train_df = df.loc[0:60].copy()\n",
        "test_df = df.loc[61:].copy()\n",
        "train_df[\"ds\"]=pd.to_datetime(train_df[\"ds\"])\n"
      ]
    },
    {
      "cell_type": "code",
      "execution_count": 8,
      "metadata": {
        "colab": {
          "base_uri": "https://localhost:8080/",
          "height": 348
        },
        "id": "Ah-IR9fjI1p4",
        "outputId": "1ebbe1c9-c415-4457-f913-acacef512cbe"
      },
      "outputs": [
        {
          "data": {
            "image/png": "[encoded data removed]",
            "text/plain": [
              "<Figure size 2400x350 with 1 Axes>"
            ]
          },
          "execution_count": 8,
          "metadata": {},
          "output_type": "execute_result"
        }
      ],
      "source": [
        "# Exponential Smoothing Model\n",
        "\n",
        "sf = StatsForecast(\n",
        "    models = [AutoETS(season_length=12)],\n",
        "    freq = 'M'\n",
        ")\n",
        "\n",
        "sf.fit(train_df)\n",
        "\n",
        "forecast_df = sf.predict(h=33, level=[90])\n",
        "\n",
        "sf.plot(train_df, forecast_df, level=[90], engine='matplotlib')\n"
      ]
    },
    {
      "cell_type": "code",
      "execution_count": 9,
      "metadata": {
        "colab": {
          "base_uri": "https://localhost:8080/"
        },
        "id": "6QB3yJPAJYc8",
        "outputId": "2fc5b7b6-032c-4a27-df29-9043907f7399"
      },
      "outputs": [
        {
          "data": {
            "text/plain": [
              "6.143417049003517"
            ]
          },
          "execution_count": 9,
          "metadata": {},
          "output_type": "execute_result"
        }
      ],
      "source": [
        "# Test Error\n",
        "mean_squared_error(test_df['y'],forecast_df['AutoETS'])"
      ]
    },
    {
      "cell_type": "markdown",
      "metadata": {
        "id": "0YocikyBJuun"
      },
      "source": [
        "A MSE of ~ 6.14 is the score to beat. We first try a Long Short Term Memory (LSTM) Recurrent Neural Network, the natural choice for a problem of this kind."
      ]
    },
    {
      "cell_type": "code",
      "execution_count": null,
      "metadata": {
        "id": "1ixyDAOvLc3-"
      },
      "outputs": [],
      "source": [
        "models = [LSTM(h=33,                         # Forecast horizon\n",
        "               max_steps=500,                # Number of steps to train\n",
        "               scaler_type='standard',       # Type of scaler to normalize data\n",
        "               encoder_hidden_size=64,       # Defines the size of the hidden state of the LSTM\n",
        "               decoder_hidden_size=64,)     # Defines the number of hidden units of each layer of the MLP decoder\n",
        "          ]\n",
        "nf = NeuralForecast(models=models, freq='M')\n",
        "nf.fit(df=train_df)"
      ]
    },
    {
      "cell_type": "code",
      "execution_count": null,
      "metadata": {
        "id": "tSPz7YBtMVcR"
      },
      "outputs": [],
      "source": [
        "forecast_df = nf.predict()\n",
        "forecast_df.head()"
      ]
    },
    {
      "cell_type": "code",
      "execution_count": 26,
      "metadata": {
        "colab": {
          "base_uri": "https://localhost:8080/"
        },
        "id": "5CFEOZPeQ3E5",
        "outputId": "c9244cfc-51cc-4418-d74e-c18d25e62b23"
      },
      "outputs": [
        {
          "data": {
            "text/plain": [
              "8.031878017072819"
            ]
          },
          "execution_count": 26,
          "metadata": {},
          "output_type": "execute_result"
        }
      ],
      "source": [
        "mean_squared_error(test_df['y'],forecast_df['LSTM'])"
      ]
    },
    {
      "cell_type": "markdown",
      "metadata": {
        "id": "p-mijiNyRPgG"
      },
      "source": [
        "The LSTM produces score of 8.03, which while respectable, still does not beat our Exponential Smoothing Model. Next, we will try a Transformer, which is essentially the state of the art architecture across many domains at this point in time. We will specifically use the 'Informer', which is one of the most succesful adaptations of the transformers architecture to time-series tasks. It is described in-depth in this paper: https://arxiv.org/abs/2012.07436"
      ]
    },
    {
      "cell_type": "code",
      "execution_count": null,
      "metadata": {
        "id": "BGhp_Ksp-rru"
      },
      "outputs": [],
      "source": [
        "models = [Informer(h=33,\n",
        "                   input_size= 24,\n",
        "                   scaler_type='standard',\n",
        "                   max_steps = 500,\n",
        "                   val_check_steps = 10,\n",
        "                   learning_rate= 1e-3\n",
        "                   )\n",
        "          ]\n",
        "nf = NeuralForecast(models=models, freq='M')\n",
        "nf.fit(df=train_df)\n",
        "forecast_df = nf.predict()\n"
      ]
    },
    {
      "cell_type": "code",
      "execution_count": 56,
      "metadata": {
        "colab": {
          "base_uri": "https://localhost:8080/"
        },
        "id": "IgdUYHSP-910",
        "outputId": "6d3d58e0-8999-44e9-a4cb-d74a9a65e04a"
      },
      "outputs": [
        {
          "data": {
            "text/plain": [
              "11.987773043337244"
            ]
          },
          "execution_count": 56,
          "metadata": {},
          "output_type": "execute_result"
        }
      ],
      "source": [
        "mean_squared_error(test_df['y'],forecast_df['Informer'])"
      ]
    },
    {
      "cell_type": "markdown",
      "metadata": {
        "id": "Le0cIZZZDWKC"
      },
      "source": [
        "Not a bad result, but still not enough. While the Informer may be the SOTA for Transformer-Based models, since the Informer, there have been a number of subsequent improvements on benchmarks, starting with the \"N-BEATS\", a model described in this paper by Yoshua Bengio and others: https://arxiv.org/abs/1905.10437. As we follow the N-Beats lineage, we end up with \"NHITS\", which is currently the SOTA. It is described here: (https://arxiv.org/abs/2201.12886). We apply it below."
      ]
    },
    {
      "cell_type": "code",
      "execution_count": null,
      "metadata": {
        "id": "8_sJ36CSDXEY"
      },
      "outputs": [],
      "source": [
        "models = [NHITS(h=33,\n",
        "                input_size= 24,\n",
        "                scaler_type='standard',\n",
        "                max_steps = 500,\n",
        "                val_check_steps = 10,\n",
        "                learning_rate= 1e-3\n",
        "                )\n",
        "          ]\n",
        "nf = NeuralForecast(models=models, freq='M')\n",
        "nf.fit(df=train_df)\n",
        "forecast_df = nf.predict()\n"
      ]
    },
    {
      "cell_type": "code",
      "execution_count": 58,
      "metadata": {
        "colab": {
          "base_uri": "https://localhost:8080/"
        },
        "id": "0PnMUJ8wDajh",
        "outputId": "849a56bd-df79-4824-8e70-89ab03d71a3f"
      },
      "outputs": [
        {
          "data": {
            "text/plain": [
              "12.967215729125432"
            ]
          },
          "execution_count": 58,
          "metadata": {},
          "output_type": "execute_result"
        }
      ],
      "source": [
        "mean_squared_error(test_df['y'],forecast_df['NHITS'])"
      ]
    },
    {
      "cell_type": "markdown",
      "metadata": {
        "id": "d15yHKb4MGdx"
      },
      "source": [
        "NHITS performs about the same as the Informer, but they still don't come close to our target. We could, of course, keep trying out similar models such as the \"Autoformer\" or \"N-Beatsx\", and hope for better results, but it is doubtful we get such a significant improvment needed to beat our target, given we are already using SOTA models. Instead, we try out a SOTA model based on a different type of Architecture, a CNN approach, the 'Timesnet'. Details can be found here: https://arxiv.org/abs/2210.02186."
      ]
    },
    {
      "cell_type": "code",
      "execution_count": null,
      "metadata": {
        "id": "k-d8x2OnOhml"
      },
      "outputs": [],
      "source": [
        "models = [TimesNet(h=33,\n",
        "                input_size= 24,\n",
        "                scaler_type='standard',\n",
        "                max_steps = 50,\n",
        "                val_check_steps = 10,\n",
        "                learning_rate= 1e-3\n",
        "                )\n",
        "          ]\n",
        "nf = NeuralForecast(models=models, freq='M')\n",
        "nf.fit(df=train_df)\n",
        "forecast_df = nf.predict()\n"
      ]
    },
    {
      "cell_type": "code",
      "execution_count": 64,
      "metadata": {
        "colab": {
          "base_uri": "https://localhost:8080/"
        },
        "id": "xkwLj_PbO0IE",
        "outputId": "0e7166b2-6a89-4b74-d9e2-348731728f0b"
      },
      "outputs": [
        {
          "data": {
            "text/plain": [
              "22.36554583601851"
            ]
          },
          "execution_count": 64,
          "metadata": {},
          "output_type": "execute_result"
        }
      ],
      "source": [
        "mean_squared_error(test_df['y'],forecast_df['TimesNet'])"
      ]
    },
    {
      "cell_type": "markdown",
      "metadata": {
        "id": "QLKVjNEpTII6"
      },
      "source": [
        "Unfortunately, this model disapointed. In conclusion, no Deep Learning model was able to outperform the Exponential Smoothing model. In fact, the simple LSTM was the better performing over any of the fancy SOTA methods which took hours to train! This just goes to show that sometimes, the old ways truly do work best."
      ]
    }
  ],
  "metadata": {
    "colab": {
      "provenance": []
    },
    "kernelspec": {
      "display_name": "Python 3",
      "name": "python3"
    },
    "language_info": {
      "name": "python"
    }
  },
  "nbformat": 4,
  "nbformat_minor": 0
}
